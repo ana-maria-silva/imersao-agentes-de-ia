{
  "nbformat": 4,
  "nbformat_minor": 0,
  "metadata": {
    "colab": {
      "provenance": []
    },
    "kernelspec": {
      "name": "python3",
      "display_name": "Python 3"
    },
    "language_info": {
      "name": "python"
    }
  },
  "cells": [
    {
      "cell_type": "markdown",
      "source": [
        "# Imersão Dev Agentes de IA - Alura e Google Gemini\n",
        "\n"
      ],
      "metadata": {
        "id": "cudhEjWchrc7"
      }
    },
    {
      "cell_type": "markdown",
      "source": [
        "## Aula 01 - Classificação de intenções com IA"
      ],
      "metadata": {
        "id": "g2lGEvF9uOeC"
      }
    },
    {
      "cell_type": "code",
      "execution_count": 17,
      "metadata": {
        "id": "EyswbL-Fkszh"
      },
      "outputs": [],
      "source": [
        "!pip install -q --upgrade langchain langchain-google-genai google-generativeai"
      ]
    },
    {
      "cell_type": "code",
      "source": [
        "from google.colab import userdata\n",
        "from langchain_google_genai import ChatGoogleGenerativeAI\n",
        "\n",
        "\n",
        "GOOGLE_API_KEY = userdata.get('GEMINI_API_KEY')"
      ],
      "metadata": {
        "id": "wT7G_MZDdY-u"
      },
      "execution_count": 18,
      "outputs": []
    },
    {
      "cell_type": "markdown",
      "source": [],
      "metadata": {
        "id": "cQjzxpFmvEXS"
      }
    },
    {
      "cell_type": "code",
      "source": [
        "# temperatura entre 0 e 1, 1 sendo criativo"
      ],
      "metadata": {
        "id": "EYRZePuljqHP"
      },
      "execution_count": 19,
      "outputs": []
    },
    {
      "cell_type": "code",
      "source": [
        "llm = ChatGoogleGenerativeAI(\n",
        "    model=\"gemini-2.5-flash\",\n",
        "    temperatura=0.8,\n",
        "    api_key=GOOGLE_API_KEY\n",
        ")"
      ],
      "metadata": {
        "id": "yEm0pIm0fzBj"
      },
      "execution_count": 20,
      "outputs": []
    },
    {
      "cell_type": "code",
      "source": [
        "resp_test = llm.invoke(\"Quem é você?\")\n",
        "print(resp_test.content)"
      ],
      "metadata": {
        "colab": {
          "base_uri": "https://localhost:8080/"
        },
        "id": "l9yPh5wxi4-w",
        "outputId": "9616aa06-27a1-46f9-e471-71db10d71ecf"
      },
      "execution_count": 21,
      "outputs": [
        {
          "output_type": "stream",
          "name": "stdout",
          "text": [
            "Eu sou um modelo de linguagem grande, treinado pelo Google.\n"
          ]
        }
      ]
    },
    {
      "cell_type": "code",
      "source": [
        "# Qual o objetivo do Agente?"
      ],
      "metadata": {
        "id": "dCczMIOskByc"
      },
      "execution_count": 22,
      "outputs": []
    },
    {
      "cell_type": "code",
      "source": [
        "TRIAGEM_PROMPT = (\n",
        "    \"Você é um gerador de README para perfil do GitHub. \"\n",
        "    \"Dada a mensagem do usuário, retorne SOMENTE um JSON com:\\n\"\n",
        "    \"{\\n\"\n",
        "    '  \"decisao\": \"AUTO_COMPLETAR\" | \"PEDIR_INFO\" | \"GERAR_BIO\",\\n'\n",
        "    '  \"carreira_academica\": \"ESTUDANTE\" | \"FORMADO/A\" | \"PÓS-GRADUADO/A\",\\n'\n",
        "    '  \"experiencia_profissional\": \"ESTAGIÁRIO/A\" | \"JÚNIOR\" | \"PLENO\" | \"SÊNIOR | \"ESPECIALISTA\",\\n'\n",
        "    '  \"campos_faltantes: [\"...\"]\\n'\n",
        "    \"}\\n\"\n",
        "    \"Regras:\\n\"\n",
        "    '- **AUTO_COMPLETAR**: Perfil completo da pessoa, contendo nome, função, senioridade, hard skills e soft skills (Ex: \"Meu nome é Maria, sou Especialista em TI Sênior, programadora javascript e autodidata\", \"Meu nome é José, sou estudante buscando estágio em TI, sei HMTL, CSS e JS\").\\n'\n",
        "    '- **PEDIR_INFO**: Mensagem de apresentação vaga ou que faltam informações para identificar o perfil (Ex: \"Sou estudante\", \"Trabalho com TI\").\\n'\n",
        "    '- **GERAR_BIO**: Solicitação para criar Bio ou Perfil do GitHub com as informações da mensagem de forma completa e precisa.\"'\n",
        ")"
      ],
      "metadata": {
        "id": "HgFrsYttlwQT"
      },
      "execution_count": 23,
      "outputs": []
    },
    {
      "cell_type": "code",
      "source": [
        "from pydantic import BaseModel, Field\n",
        "from typing import Literal, List, Dict\n",
        "\n",
        "class TriagemOut(BaseModel):\n",
        "    decisao: Literal[\"AUTO_COMPLETAR\", \"PEDIR_INFO\", \"GERAR_BIO\"]\n",
        "    carreira_academica: Literal[\"ESTUDANTE\", \"FORMADO/A\", \"PÓS-GRADUADO/A\"]\n",
        "    experiencia_profissional: Literal[\"ESTAGIÁRIO/A\", \"JÚNIOR\", \"PLENO\", \"SÊNIOR\", \"ESPECIALISTA\"]\n",
        "    campos_faltantes: List[str] = Field(default_factory=list)"
      ],
      "metadata": {
        "id": "CrddVUPun4nx"
      },
      "execution_count": 24,
      "outputs": []
    },
    {
      "cell_type": "code",
      "source": [
        "llm_triagem = ChatGoogleGenerativeAI(\n",
        "    model=\"gemini-2.5-flash\",\n",
        "    temperature=0.0,\n",
        "    api_key=GOOGLE_API_KEY\n",
        ")"
      ],
      "metadata": {
        "id": "QG-Jh7gLoS1C"
      },
      "execution_count": 25,
      "outputs": []
    },
    {
      "cell_type": "code",
      "source": [
        "from langchain_core.messages import SystemMessage, HumanMessage\n",
        "\n",
        "triagem_chain = llm_triagem.with_structured_output(TriagemOut)\n",
        "\n",
        "def triagem(mensagem: str) -> Dict:\n",
        "    saida: TriagemOut = triagem_chain.invoke([\n",
        "        SystemMessage(content=TRIAGEM_PROMPT),\n",
        "        HumanMessage(content=mensagem)\n",
        "    ])\n",
        "\n",
        "    return saida.model_dump()"
      ],
      "metadata": {
        "id": "5ctVeazKohil"
      },
      "execution_count": 26,
      "outputs": []
    },
    {
      "cell_type": "code",
      "source": [
        "testes = [\"Meu nome é Ana Maria sou Especialista de TI, Formada e conclui a Pós, sou Analista nível Pleno\", \"Meu Nome é Maria, sou estudante e estagiária\"]"
      ],
      "metadata": {
        "id": "W98N-7G8q2GV"
      },
      "execution_count": 27,
      "outputs": []
    },
    {
      "cell_type": "code",
      "source": [
        "for msg_teste in testes:\n",
        "    print(f\"Pergunta: {msg_teste}\\n -> Resposta: {triagem(msg_teste)}\\n\")"
      ],
      "metadata": {
        "colab": {
          "base_uri": "https://localhost:8080/"
        },
        "id": "e5WstcNKrTaH",
        "outputId": "e168a270-4d4b-4b0b-8403-78ad540b3805"
      },
      "execution_count": 28,
      "outputs": [
        {
          "output_type": "stream",
          "name": "stdout",
          "text": [
            "Pergunta: Meu nome é Ana Maria sou Especialista de TI, Formada e conclui a Pós, sou Analista nível Pleno\n",
            " -> Resposta: {'decisao': 'AUTO_COMPLETAR', 'carreira_academica': 'PÓS-GRADUADO/A', 'experiencia_profissional': 'PLENO', 'campos_faltantes': ['hard skills', 'soft skills']}\n",
            "\n",
            "Pergunta: Meu Nome é Maria, sou estudante e estagiária\n",
            " -> Resposta: {'decisao': 'AUTO_COMPLETAR', 'carreira_academica': 'ESTUDANTE', 'experiencia_profissional': 'ESTAGIÁRIO/A', 'campos_faltantes': []}\n",
            "\n"
          ]
        }
      ]
    },
    {
      "cell_type": "markdown",
      "source": [
        "## Aula 02 - Construindo a base de conhecimento com RAG"
      ],
      "metadata": {
        "id": "cGncotQluWMh"
      }
    },
    {
      "cell_type": "code",
      "source": [
        "!pip install -q --upgrade langchain_community faiss-cpu langchain-text-splitters pymupdf"
      ],
      "metadata": {
        "id": "gHSjRz4HudAt"
      },
      "execution_count": 16,
      "outputs": []
    },
    {
      "cell_type": "code",
      "source": [
        "from pathlib import Path\n",
        "from langchain_community.document_loaders import PyMuPDFLoader\n",
        "\n",
        "docs = []\n",
        "\n",
        "for n in Path(\"/content/\").glob(\"*.pdf\"):\n",
        "  try:\n",
        "    loader = PyMuPDFLoader(str(n))\n",
        "    docs.extend(loader.load())\n",
        "    print(f\"Carregado arquivo {n.name} com sucesso\")\n",
        "  except Exception as e:\n",
        "    print(f\"Erro ao carregar {n.name}: e\")\n",
        "\n",
        "print(f\"Total de documentos carregados: {len(docs)}\")"
      ],
      "metadata": {
        "id": "kukQNF9-9Mzo",
        "colab": {
          "base_uri": "https://localhost:8080/"
        },
        "outputId": "0e6a6e93-a57c-4440-d823-fb774ba6d3d2"
      },
      "execution_count": 30,
      "outputs": [
        {
          "output_type": "stream",
          "name": "stdout",
          "text": [
            "Carregado arquivo doc.pdf com sucesso\n",
            "Total de documentos carregados: 1\n"
          ]
        }
      ]
    },
    {
      "cell_type": "code",
      "source": [
        "from langchain_text_splitters import RecursiveCharacterTextSplitter\n",
        "\n",
        "splitter = RecursiveCharacterTextSplitter(chunk_size=300, chunk_overlap=30)\n",
        "\n",
        "chunks = splitter.split_documents(docs)"
      ],
      "metadata": {
        "id": "qTNXGfvW-ftx"
      },
      "execution_count": 31,
      "outputs": []
    },
    {
      "cell_type": "code",
      "source": [
        "for chunk in chunks:\n",
        "    print(chunk)\n",
        "    print(\"------------------------------------\")"
      ],
      "metadata": {
        "colab": {
          "base_uri": "https://localhost:8080/"
        },
        "id": "RbRP1O4RQ4qj",
        "outputId": "c6b5f0d0-0081-4532-d7d4-eb083c688bba"
      },
      "execution_count": 32,
      "outputs": [
        {
          "output_type": "stream",
          "name": "stdout",
          "text": [
            "page_content='# Ana Maria - Portfólio de Projetos \n",
            " \n",
            "Sou **Ana Maria**, uma **Cientista da Computação** com experiência como **Analista \n",
            "de TI** e focada em **desenvolvimento web**. Este espaço é um portfólio dos meus \n",
            "projetos e contribuições. \n",
            " \n",
            "##   Destaques' metadata={'producer': 'Microsoft® Word para Microsoft 365', 'creator': 'Microsoft® Word para Microsoft 365', 'creationdate': '2025-09-14T14:22:46-03:00', 'source': '/content/doc.pdf', 'file_path': '/content/doc.pdf', 'total_pages': 1, 'format': 'PDF 1.7', 'title': '', 'author': 'Ana Maria Araujo da Silva', 'subject': '', 'keywords': '', 'moddate': '2025-09-14T14:22:46-03:00', 'trapped': '', 'modDate': \"D:20250914142246-03'00'\", 'creationDate': \"D:20250914142246-03'00'\", 'page': 0}\n",
            "------------------------------------\n",
            "page_content='##   Destaques \n",
            " \n",
            "*   [Nome do Projeto 1](link-para-o-projeto-1): Uma aplicação web para gestão de tarefas, \n",
            "desenvolvida com React e Node.js. \n",
            "*   [Nome do Projeto 2](link-para-o-projeto-2): Script Python para automação de \n",
            "relatórios, economizando X horas/mês. \n",
            " \n",
            "## 🛠 Habilidades' metadata={'producer': 'Microsoft® Word para Microsoft 365', 'creator': 'Microsoft® Word para Microsoft 365', 'creationdate': '2025-09-14T14:22:46-03:00', 'source': '/content/doc.pdf', 'file_path': '/content/doc.pdf', 'total_pages': 1, 'format': 'PDF 1.7', 'title': '', 'author': 'Ana Maria Araujo da Silva', 'subject': '', 'keywords': '', 'moddate': '2025-09-14T14:22:46-03:00', 'trapped': '', 'modDate': \"D:20250914142246-03'00'\", 'creationDate': \"D:20250914142246-03'00'\", 'page': 0}\n",
            "------------------------------------\n",
            "page_content='## 🛠 Habilidades \n",
            " \n",
            "*   **Desenvolvimento Frontend:** HTML, CSS, JavaScript (ES6+), React.js, Redux \n",
            "*   **Desenvolvimento Backend:** Node.js, Express, Python, Django, RESTful APIs \n",
            "*   **Bancos de Dados:** PostgreSQL, MySQL, MongoDB' metadata={'producer': 'Microsoft® Word para Microsoft 365', 'creator': 'Microsoft® Word para Microsoft 365', 'creationdate': '2025-09-14T14:22:46-03:00', 'source': '/content/doc.pdf', 'file_path': '/content/doc.pdf', 'total_pages': 1, 'format': 'PDF 1.7', 'title': '', 'author': 'Ana Maria Araujo da Silva', 'subject': '', 'keywords': '', 'moddate': '2025-09-14T14:22:46-03:00', 'trapped': '', 'modDate': \"D:20250914142246-03'00'\", 'creationDate': \"D:20250914142246-03'00'\", 'page': 0}\n",
            "------------------------------------\n",
            "page_content='*   **Infraestrutura/DevOps (Básico):** Docker, Git, AWS (noções) \n",
            " \n",
            "##   Colaborações \n",
            " \n",
            "Estou aberta a colaborar em projetos open-source e novas iniciativas. Se você tem uma \n",
            "ideia, vamos conversar! \n",
            " \n",
            "##   Contato \n",
            " \n",
            "*   **GitHub:** [Seu perfil do GitHub](https://github.com/anamariasilva)' metadata={'producer': 'Microsoft® Word para Microsoft 365', 'creator': 'Microsoft® Word para Microsoft 365', 'creationdate': '2025-09-14T14:22:46-03:00', 'source': '/content/doc.pdf', 'file_path': '/content/doc.pdf', 'total_pages': 1, 'format': 'PDF 1.7', 'title': '', 'author': 'Ana Maria Araujo da Silva', 'subject': '', 'keywords': '', 'moddate': '2025-09-14T14:22:46-03:00', 'trapped': '', 'modDate': \"D:20250914142246-03'00'\", 'creationDate': \"D:20250914142246-03'00'\", 'page': 0}\n",
            "------------------------------------\n",
            "page_content='*   **LinkedIn:** [Seu perfil do LinkedIn](https://www.linkedin.com/in/anamariasilva)' metadata={'producer': 'Microsoft® Word para Microsoft 365', 'creator': 'Microsoft® Word para Microsoft 365', 'creationdate': '2025-09-14T14:22:46-03:00', 'source': '/content/doc.pdf', 'file_path': '/content/doc.pdf', 'total_pages': 1, 'format': 'PDF 1.7', 'title': '', 'author': 'Ana Maria Araujo da Silva', 'subject': '', 'keywords': '', 'moddate': '2025-09-14T14:22:46-03:00', 'trapped': '', 'modDate': \"D:20250914142246-03'00'\", 'creationDate': \"D:20250914142246-03'00'\", 'page': 0}\n",
            "------------------------------------\n"
          ]
        }
      ]
    },
    {
      "cell_type": "code",
      "source": [
        "from langchain_google_genai import GoogleGenerativeAIEmbeddings\n",
        "\n",
        "embeddings = GoogleGenerativeAIEmbeddings(\n",
        "    model=\"models/gemini-embedding-001\",\n",
        "    google_api_key=GOOGLE_API_KEY\n",
        ")"
      ],
      "metadata": {
        "id": "02PbicpCRAyq"
      },
      "execution_count": 33,
      "outputs": []
    },
    {
      "cell_type": "code",
      "source": [
        "from langchain_community.vectorstores import FAISS\n",
        "\n",
        "vectorstore = FAISS.from_documents(chunks, embeddings)\n",
        "\n",
        "retriever = vectorstore.as_retriever(search_type=\"similarity_score_threshold\",\n",
        "                                     search_kwargs={\"score_threshold\":0.3, \"k\": 4})"
      ],
      "metadata": {
        "id": "vexQaB98RCm8"
      },
      "execution_count": 34,
      "outputs": []
    },
    {
      "cell_type": "code",
      "source": [
        "from langchain_core.prompts import ChatPromptTemplate\n",
        "from langchain.chains.combine_documents import create_stuff_documents_chain\n",
        "\n",
        "prompt_rag = ChatPromptTemplate.from_messages([\n",
        "    (\"system\",\n",
        "     \"Você é um Assistente Gerador de README para o Perfil do GitHub. \"\n",
        "     \"Responda SOMENTE com base no contexto fornecido. \"\n",
        "     \"Se não houver base suficiente, responda apenas 'Não sei'.\"),\n",
        "\n",
        "    (\"human\", \"Pergunta: {input}\\n\\nContexto:\\n{context}\")\n",
        "])\n",
        "\n",
        "document_chain = create_stuff_documents_chain(llm_triagem, prompt_rag)"
      ],
      "metadata": {
        "id": "jlhCMs8ERG6i"
      },
      "execution_count": 35,
      "outputs": []
    },
    {
      "cell_type": "code",
      "source": [
        "# Formatadores\n",
        "import re, pathlib\n",
        "\n",
        "def _clean_text(s: str) -> str:\n",
        "    return re.sub(r\"\\s+\", \" \", s or \"\").strip()\n",
        "\n",
        "def extrair_trecho(texto: str, query: str, janela: int = 240) -> str:\n",
        "    txt = _clean_text(texto)\n",
        "    termos = [t.lower() for t in re.findall(r\"\\w+\", query or \"\") if len(t) >= 4]\n",
        "    pos = -1\n",
        "    for t in termos:\n",
        "        pos = txt.lower().find(t)\n",
        "        if pos != -1: break\n",
        "    if pos == -1: pos = 0\n",
        "    ini, fim = max(0, pos - janela//2), min(len(txt), pos + janela//2)\n",
        "    return txt[ini:fim]\n",
        "\n",
        "def formatar_citacoes(docs_rel: List, query: str) -> List[Dict]:\n",
        "    cites, seen = [], set()\n",
        "    for d in docs_rel:\n",
        "        src = pathlib.Path(d.metadata.get(\"source\",\"\")).name\n",
        "        page = int(d.metadata.get(\"page\", 0)) + 1\n",
        "        key = (src, page)\n",
        "        if key in seen:\n",
        "            continue\n",
        "        seen.add(key)\n",
        "        cites.append({\"documento\": src, \"pagina\": page, \"trecho\": extrair_trecho(d.page_content, query)})\n",
        "    return cites[:3]"
      ],
      "metadata": {
        "id": "H0zEj3tqRKXN"
      },
      "execution_count": 36,
      "outputs": []
    },
    {
      "cell_type": "code",
      "source": [
        "def perguntar_politica_RAG(pergunta: str) -> Dict:\n",
        "    docs_relacionados = retriever.invoke(pergunta)\n",
        "\n",
        "    if not docs_relacionados:\n",
        "        return {\"answer\": \"Não sei.\",\n",
        "                \"citacoes\": [],\n",
        "                \"contexto_encontrado\": False}\n",
        "\n",
        "    answer = document_chain.invoke({\"input\": pergunta,\n",
        "                                    \"context\": docs_relacionados})\n",
        "\n",
        "    txt = (answer or \"\").strip()\n",
        "\n",
        "    if txt.rstrip(\".!?\") == \"Não sei\":\n",
        "        return {\"answer\": \"Não sei.\",\n",
        "                \"citacoes\": [],\n",
        "                \"contexto_encontrado\": False}\n",
        "\n",
        "    return {\"answer\": txt,\n",
        "            \"citacoes\": formatar_citacoes(docs_relacionados, pergunta),\n",
        "            \"contexto_encontrado\": True}"
      ],
      "metadata": {
        "id": "PJs3JVJwRUHQ"
      },
      "execution_count": 37,
      "outputs": []
    },
    {
      "cell_type": "code",
      "source": [
        "testes = [\"Sou cientista da computação e analista de TI\"]"
      ],
      "metadata": {
        "id": "wMHafqzARbky"
      },
      "execution_count": 39,
      "outputs": []
    },
    {
      "cell_type": "code",
      "source": [
        "for msg_teste in testes:\n",
        "    resposta = perguntar_politica_RAG(msg_teste)\n",
        "    print(f\"PERGUNTA: {msg_teste}\")\n",
        "    print(f\"RESPOSTA: {resposta['answer']}\")\n",
        "    if resposta['contexto_encontrado']:\n",
        "        print(\"CITAÇÕES:\")\n",
        "        for c in resposta['citacoes']:\n",
        "            print(f\" - Documento: {c['documento']}, Página: {c['pagina']}\")\n",
        "            print(f\"   Trecho: {c['trecho']}\")\n",
        "        print(\"------------------------------------\")"
      ],
      "metadata": {
        "colab": {
          "base_uri": "https://localhost:8080/"
        },
        "id": "L_ea6ufDRqSh",
        "outputId": "189177ae-d6fc-4801-ab75-e2e235ebc820"
      },
      "execution_count": 40,
      "outputs": [
        {
          "output_type": "stream",
          "name": "stdout",
          "text": [
            "PERGUNTA: Sou cientista da computação e analista de TI\n",
            "RESPOSTA: Sim, você é Cientista da Computação e Analista de TI.\n",
            "CITAÇÕES:\n",
            " - Documento: doc.pdf, Página: 1\n",
            "   Trecho: # Ana Maria - Portfólio de Projetos Sou **Ana Maria**, uma **Cientista da Computação** com experiência como **Analista de TI** e focada em **desenvolvimento web**. Este espaço é um \n",
            "------------------------------------\n"
          ]
        }
      ]
    }
  ]
}